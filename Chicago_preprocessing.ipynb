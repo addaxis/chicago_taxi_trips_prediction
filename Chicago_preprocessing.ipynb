{
 "cells": [
  {
   "cell_type": "code",
   "execution_count": 4,
   "id": "b49fdb8d-5781-4b8d-9f6e-ea1a8413dc19",
   "metadata": {},
   "outputs": [],
   "source": [
    "import tensorflow as tf\n",
    "from sklearn.model_selection import train_test_split\n",
    "from sklearn.preprocessing import StandardScaler, OneHotEncoder\n",
    "import pandas as pd\n",
    "import numpy as np\n",
    "from google.cloud.bigquery import Client"
   ]
  },
  {
   "cell_type": "code",
   "execution_count": null,
   "id": "70f52690-5c4c-43a3-a5ca-a320bbd463b4",
   "metadata": {},
   "outputs": [],
   "source": [
    "client = Client()\n",
    "\n",
    "query = \"\"\"select \n",
    "*\n",
    "from `aa-ai-specialisation.chicago_taxi_trips.local_taxi_trips`\n",
    "where trip_start_timestamp >= '2023-01-01'\n",
    "\"\"\"\n",
    "job = client.query(query)\n",
    "df = job.to_dataframe()\n",
    "df = df.drop(columns=[\"pickup_census_tract\", \"dropoff_census_tract\"], axis=1)\n",
    "\n",
    "companies = df[\"company\"].unique()\n",
    "p_areas = df[\"pickup_community_area\"].unique()\n",
    "d_areas = df[\"dropoff_community_area\"].unique()\n",
    "\n",
    "\n",
    "preprocess_bq_query = f\"\"\"\n",
    "CREATE OR REPLACE TABLE chicago_taxi_trips.processed_local_taxi_trips AS\n",
    "SELECT \n",
    "    fare,\n",
    "    -- Standardize numeric columns\n",
    "    (trip_miles - (SELECT AVG(trip_miles) FROM chicago_taxi_trips.local_taxi_trips WHERE trip_start_timestamp >= '2023-01-01')) / \n",
    "    (SELECT STDDEV(trip_miles) FROM chicago_taxi_trips.local_taxi_trips WHERE trip_start_timestamp >= '2023-01-01') AS standardized_trip_miles,\n",
    "    (trip_seconds - (SELECT AVG(trip_seconds) FROM chicago_taxi_trips.local_taxi_trips WHERE trip_start_timestamp >= '2023-01-01')) / \n",
    "    (SELECT STDDEV(trip_seconds) FROM chicago_taxi_trips.local_taxi_trips WHERE trip_start_timestamp >= '2023-01-01') AS standardized_trip_seconds,\n",
    "    -- Extract month and hour from timestamp\n",
    "    EXTRACT(MONTH FROM TIMESTAMP(trip_start_timestamp)) AS trip_start_month,\n",
    "    EXTRACT(HOUR FROM TIMESTAMP(trip_start_timestamp)) AS trip_start_hour\n",
    "\n",
    "\"\"\"\n",
    "\n",
    "for c in companies:\n",
    "    case_statement = f\", CASE WHEN company = '{c}' THEN 1 ELSE 0 END AS company_{c}\"\n",
    "    preprocess_bq_query += case_statement\n",
    "\n",
    "for p in p_areas:\n",
    "    if type(p) != np.int64:\n",
    "        continue\n",
    "    case_statement = f\", CASE WHEN pickup_community_area = {p} THEN 1 ELSE 0 END AS pickup_community_area_{p}\"\n",
    "    preprocess_bq_query += case_statement\n",
    "\n",
    "for d in d_areas:\n",
    "    if type(d) != np.int64:\n",
    "        continue\n",
    "    case_statement = f\", CASE WHEN dropoff_community_area = {d} THEN 1 ELSE 0 END AS dropoff_community_area_{d}\"\n",
    "    preprocess_bq_query += case_statement\n",
    "\n",
    "preprocess_bq_query_2 = f\"\"\"\n",
    "    FROM \n",
    "    `aa-ai-specialisation.chicago_taxi_trips.local_taxi_trips`\n",
    "WHERE\n",
    "    trip_start_timestamp >= '2023-01-01' AND\n",
    "    pickup_community_area IS NOT NULL AND\n",
    "    dropoff_community_area IS NOT NULL AND\n",
    "    company IS NOT NULL AND\n",
    "    trip_miles IS NOT NULL AND\n",
    "    trip_seconds IS NOT NULL AND\n",
    "    fare IS NOT NULL\n",
    "\"\"\"\n",
    "\n",
    "preprocess_bq_query += preprocess_bq_query_2\n",
    "\n",
    "\n",
    "query_job = client.query(preprocess_bq_query)"
   ]
  },
  {
   "cell_type": "code",
   "execution_count": 82,
   "id": "5a760f9c-11e7-44de-85ab-7bb82de55458",
   "metadata": {},
   "outputs": [
    {
     "name": "stdout",
     "output_type": "stream",
     "text": [
      "Data preprocessed successfully.\n"
     ]
    }
   ],
   "source": [
    "# # Wait for the query to finish\n",
    "query_job.result()\n",
    "\n",
    "# Check for errors\n",
    "if query_job.errors:\n",
    "    print(\"Query execution errors: \", query_job.errors)\n",
    "else:\n",
    "    print(\"Data preprocessed successfully.\")"
   ]
  },
  {
   "cell_type": "code",
   "execution_count": null,
   "id": "0213f8e1-fd82-47fc-ab46-b6bedfa47118",
   "metadata": {},
   "outputs": [],
   "source": []
  }
 ],
 "metadata": {
  "environment": {
   "kernel": "python3",
   "name": "common-cpu.m111",
   "type": "gcloud",
   "uri": "gcr.io/deeplearning-platform-release/base-cpu:m111"
  },
  "kernelspec": {
   "display_name": "Python 3",
   "language": "python",
   "name": "python3"
  },
  "language_info": {
   "codemirror_mode": {
    "name": "ipython",
    "version": 3
   },
   "file_extension": ".py",
   "mimetype": "text/x-python",
   "name": "python",
   "nbconvert_exporter": "python",
   "pygments_lexer": "ipython3",
   "version": "3.7.12"
  }
 },
 "nbformat": 4,
 "nbformat_minor": 5
}
